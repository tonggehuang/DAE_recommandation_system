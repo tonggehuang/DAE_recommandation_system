{
 "cells": [
  {
   "cell_type": "code",
   "execution_count": 1,
   "metadata": {},
   "outputs": [],
   "source": [
    "import os\n",
    "import time\n",
    "import pandas as pd\n",
    "import numpy as np\n",
    "\n",
    "from surprise import Dataset\n",
    "from surprise import Reader\n",
    "from surprise.model_selection import cross_validate\n",
    "from surprise.model_selection import train_test_split as surprise_train_test_split\n",
    "from sklearn.model_selection import train_test_split as sklearn_train_test_split"
   ]
  },
  {
   "cell_type": "code",
   "execution_count": 2,
   "metadata": {},
   "outputs": [],
   "source": [
    "import matplotlib.pyplot as plt\n",
    "%matplotlib inline"
   ]
  },
  {
   "cell_type": "markdown",
   "metadata": {},
   "source": [
    "#### load the movielens data "
   ]
  },
  {
   "cell_type": "code",
   "execution_count": 3,
   "metadata": {},
   "outputs": [],
   "source": [
    "raw_data = Dataset.load_builtin('ml-100k').build_full_trainset()"
   ]
  },
  {
   "cell_type": "code",
   "execution_count": 4,
   "metadata": {},
   "outputs": [],
   "source": [
    "df_list_dict = list(raw_data.ur.items())"
   ]
  },
  {
   "cell_type": "code",
   "execution_count": 5,
   "metadata": {},
   "outputs": [],
   "source": [
    "df = []\n",
    "for i in range(len(df_list_dict)):\n",
    "    df_i = np.array(df_list_dict[i][1])\n",
    "    df_i = np.hstack((np.tile(i, (len(df_i),1)), df_i))\n",
    "    df.append(df_i)\n",
    "    \n",
    "df = pd.DataFrame(np.vstack(df), columns=['uid','mid','rating'])"
   ]
  },
  {
   "cell_type": "code",
   "execution_count": 6,
   "metadata": {},
   "outputs": [],
   "source": [
    "df_train, df_test = sklearn_train_test_split(df, \n",
    "                                             stratify=df['uid'],\n",
    "                                             test_size=0.1, \n",
    "                                             random_state=9408)"
   ]
  },
  {
   "cell_type": "code",
   "execution_count": 7,
   "metadata": {},
   "outputs": [],
   "source": [
    "df_train, df_valid = sklearn_train_test_split(df_train, \n",
    "                                              stratify=df_train['uid'],\n",
    "                                              test_size=0.1, \n",
    "                                              random_state=9408)"
   ]
  },
  {
   "cell_type": "code",
   "execution_count": 8,
   "metadata": {},
   "outputs": [
    {
     "name": "stdout",
     "output_type": "stream",
     "text": [
      "df_train: 81000 ratings, 1654 items, 943 users\n",
      "df_valid: 9000 ratings, 1215 items, 943 users\n",
      "df_test: 10000 ratings, 1252 items, 943 users\n"
     ]
    }
   ],
   "source": [
    "print('df_train: {} ratings, {} items, {} users'.format(len(df_train), \n",
    "                                                        len(df_train['mid'].unique()),\n",
    "                                                        len(df_train['uid'].unique())))\n",
    "print('df_valid: {} ratings, {} items, {} users'.format(len(df_valid), \n",
    "                                                        len(df_valid['mid'].unique()),\n",
    "                                                        len(df_valid['uid'].unique())))\n",
    "print('df_test: {} ratings, {} items, {} users'.format(len(df_test), \n",
    "                                                        len(df_test['mid'].unique()),\n",
    "                                                        len(df_test['uid'].unique())))"
   ]
  },
  {
   "cell_type": "code",
   "execution_count": 9,
   "metadata": {},
   "outputs": [],
   "source": [
    "df_train.to_csv('./data/ml_100k_train_data.csv', index=False)\n",
    "df_valid.to_csv('./data/ml_100k_valid_data.csv', index=False)\n",
    "df_test.to_csv('./data/ml_100k_test_data.csv', index=False)"
   ]
  },
  {
   "cell_type": "markdown",
   "metadata": {},
   "source": [
    "#### preprocessing"
   ]
  },
  {
   "cell_type": "code",
   "execution_count": 3,
   "metadata": {},
   "outputs": [],
   "source": [
    "df_train = pd.read_csv('./data/ml_100k_train_data.csv')\n",
    "df_valid = pd.read_csv('./data/ml_100k_valid_data.csv')\n",
    "df_test = pd.read_csv('./data/ml_100k_test_data.csv')"
   ]
  },
  {
   "cell_type": "code",
   "execution_count": 4,
   "metadata": {},
   "outputs": [],
   "source": [
    "df_train = df_train.sort_values(by=['uid','mid']).reset_index(drop=True)\n",
    "df_valid = df_valid.sort_values(by=['uid','mid']).reset_index(drop=True)\n",
    "df_test = df_test.sort_values(by=['uid','mid']).reset_index(drop=True)"
   ]
  },
  {
   "cell_type": "code",
   "execution_count": 5,
   "metadata": {},
   "outputs": [],
   "source": [
    "raw_dat_parameters = Dataset.load_builtin('ml-100k').build_full_trainset()"
   ]
  },
  {
   "cell_type": "code",
   "execution_count": 6,
   "metadata": {},
   "outputs": [],
   "source": [
    "num_users = raw_dat_parameters.n_users\n",
    "num_movies = raw_dat_parameters.n_items\n",
    "num_ratings = raw_dat_parameters.n_ratings"
   ]
  },
  {
   "cell_type": "code",
   "execution_count": 7,
   "metadata": {},
   "outputs": [
    {
     "data": {
      "text/plain": [
       "943"
      ]
     },
     "execution_count": 7,
     "metadata": {},
     "output_type": "execute_result"
    }
   ],
   "source": [
    "num_users"
   ]
  },
  {
   "cell_type": "code",
   "execution_count": 8,
   "metadata": {},
   "outputs": [
    {
     "data": {
      "text/plain": [
       "3.52986"
      ]
     },
     "execution_count": 8,
     "metadata": {},
     "output_type": "execute_result"
    }
   ],
   "source": [
    "raw_dat_parameters.global_mean"
   ]
  },
  {
   "cell_type": "code",
   "execution_count": 9,
   "metadata": {},
   "outputs": [],
   "source": [
    "def preprocessor(df, num_user, num_movie, use_global_avg=True):\n",
    "    \n",
    "    # generate sparse matrix\n",
    "    um_matrix = np.full((num_user, num_movie), 999.0)\n",
    "    \n",
    "    for (_, uid, mid, rateid) in df.itertuples():\n",
    "        um_matrix[int(uid)][int(mid)] = rateid\n",
    "        \n",
    "    # generate sparse matrix mask\n",
    "    um_matrix_mask = np.full((num_user, num_movie), 1.0)\n",
    "    empty_row, empty_column = np.where(um_matrix == 999.0)\n",
    "    \n",
    "    for er, ec in zip(empty_row, empty_column):\n",
    "        um_matrix_mask[er][ec] = 0\n",
    "        \n",
    "        # fill the empty with average or whatever\n",
    "        if use_global_avg:\n",
    "            um_matrix[er][ec] = raw_dat_parameters.global_mean\n",
    "        else:\n",
    "            um_matrix[er][ec] = 0\n",
    "            \n",
    "    return um_matrix, um_matrix_mask"
   ]
  },
  {
   "cell_type": "code",
   "execution_count": 10,
   "metadata": {},
   "outputs": [],
   "source": [
    "# # Sparse matrix generations\n",
    "# train_sparse_matrix, train_sparse_matrix_mask = preprocessor(df_train, num_users, num_movies, use_global_avg=True)\n",
    "# valid_sparse_matrix, valid_sparse_matrix_mask = preprocessor(df_valid, num_users, num_movies, use_global_avg=True)\n",
    "# test_sparse_matrix, test_sparse_matrix_mask = preprocessor(df_test, num_users, num_movies, use_global_avg=True)"
   ]
  },
  {
   "cell_type": "code",
   "execution_count": 11,
   "metadata": {},
   "outputs": [],
   "source": [
    "# Sparse matrix generations\n",
    "train_sparse_matrix, train_sparse_matrix_mask = preprocessor(df_train, num_users, num_movies, use_global_avg=False)\n",
    "valid_sparse_matrix, valid_sparse_matrix_mask = preprocessor(df_valid, num_users, num_movies, use_global_avg=False)\n",
    "test_sparse_matrix, test_sparse_matrix_mask = preprocessor(df_test, num_users, num_movies, use_global_avg=False)"
   ]
  },
  {
   "cell_type": "code",
   "execution_count": 14,
   "metadata": {},
   "outputs": [
    {
     "data": {
      "text/plain": [
       "(943, 1682)"
      ]
     },
     "execution_count": 14,
     "metadata": {},
     "output_type": "execute_result"
    }
   ],
   "source": [
    "train_sparse_matrix.shape"
   ]
  },
  {
   "cell_type": "code",
   "execution_count": 16,
   "metadata": {},
   "outputs": [
    {
     "data": {
      "text/plain": [
       "(943, 1682)"
      ]
     },
     "execution_count": 16,
     "metadata": {},
     "output_type": "execute_result"
    }
   ],
   "source": [
    "valid_sparse_matrix.shape"
   ]
  },
  {
   "cell_type": "code",
   "execution_count": 15,
   "metadata": {},
   "outputs": [
    {
     "data": {
      "text/plain": [
       "(943, 1682)"
      ]
     },
     "execution_count": 15,
     "metadata": {},
     "output_type": "execute_result"
    }
   ],
   "source": [
    "test_sparse_matrix.shape"
   ]
  },
  {
   "cell_type": "code",
   "execution_count": 12,
   "metadata": {},
   "outputs": [],
   "source": [
    "# np.save('./data/train_sparse_matrix.npy', train_sparse_matrix)\n",
    "# np.save('./data/train_sparse_matrix_mask.npy', train_sparse_matrix_mask)\n",
    "# np.save('./data/valid_sparse_matrix.npy', valid_sparse_matrix)\n",
    "# np.save('./data/valid_sparse_matrix_mask.npy', valid_sparse_matrix_mask)\n",
    "# np.save('./data/test_sparse_matrix.npy', test_sparse_matrix)\n",
    "# np.save('./data/test_sparse_matrix_mask.npy', test_sparse_matrix_mask)"
   ]
  },
  {
   "cell_type": "code",
   "execution_count": 13,
   "metadata": {},
   "outputs": [],
   "source": [
    "# np.array(df_train[['uid']])"
   ]
  },
  {
   "cell_type": "markdown",
   "metadata": {},
   "source": [
    "#### Denoise Autoencoder"
   ]
  },
  {
   "cell_type": "code",
   "execution_count": 14,
   "metadata": {},
   "outputs": [],
   "source": [
    "import torch\n",
    "import torch.nn as nn"
   ]
  },
  {
   "cell_type": "code",
   "execution_count": 15,
   "metadata": {},
   "outputs": [],
   "source": [
    "def plot_grad_flow(named_parameters, batch_id, whichone='D'):\n",
    "    ave_grads = []\n",
    "    layers = []\n",
    "    for n, p in named_parameters:\n",
    "        if(p.requires_grad) and (\"bias\" not in n):\n",
    "            layers.append(n)\n",
    "            ave_grads.append(p.grad.abs().mean())\n",
    "            \n",
    "    plt.plot(ave_grads, alpha=0.5, color=\"b\")\n",
    "    plt.hlines(0, 0, len(ave_grads)+1, linewidth=1, color=\"k\" )\n",
    "    plt.xticks(range(0,len(ave_grads), 1), layers, rotation=\"vertical\")\n",
    "    plt.xlim(xmin=-.2, xmax=len(ave_grads))\n",
    "    plt.xlabel(\"Layers\")\n",
    "    plt.ylabel(\"average gradient\")\n",
    "#     plt.ylim(ymin=-0.02, ymax=1)\n",
    "    plt.title(\"{} Gradient flow batch {}\".format(whichone, batch_id))\n",
    "    plt.grid(True)\n",
    "    plt.show()"
   ]
  },
  {
   "cell_type": "code",
   "execution_count": 16,
   "metadata": {},
   "outputs": [],
   "source": [
    "def print_network(net):\n",
    "    num_params = 0\n",
    "    for param in net.parameters():\n",
    "        num_params += param.numel()\n",
    "    print(net)\n",
    "    print('Total number of parameters: %d' % num_params)"
   ]
  },
  {
   "cell_type": "code",
   "execution_count": 17,
   "metadata": {},
   "outputs": [],
   "source": [
    "def normal_init(m, mean, std):\n",
    "    if isinstance(m, nn.Linear) or isinstance(m, nn.Linear):\n",
    "        nn.init.normal_(m.weight.data, mean, std)\n",
    "        nn.init.constant_(m.bias.data, 0.0)"
   ]
  },
  {
   "cell_type": "code",
   "execution_count": 76,
   "metadata": {},
   "outputs": [],
   "source": [
    "class DAutoencoder(nn.Module):\n",
    "    def __init__(self, code_depth=64):\n",
    "        super(DAutoencoder, self).__init__()\n",
    "        \n",
    "        self.encoder_fc1 = nn.Linear(num_movies, code_depth*2)\n",
    "        self.encoder_fc2 = nn.Linear(code_depth*2, code_depth)\n",
    "        self.decoder_fc1 = nn.Linear(code_depth, code_depth*2)\n",
    "        self.decoder_fc2 = nn.Linear(code_depth*2, num_movies)\n",
    "        self.activation = nn.Sigmoid()\n",
    "        \n",
    "    # weight_init\n",
    "    def weight_init(self, mean, std):\n",
    "        for m in self._modules:\n",
    "            normal_init(self._modules[m], mean, std)\n",
    "\n",
    "    def forward(self, x):\n",
    "        x = self.activation(self.encoder_fc1(x))\n",
    "        x = self.activation(self.encoder_fc2(x))\n",
    "        x = self.activation(self.decoder_fc1(x))\n",
    "        x = self.decoder_fc2(x)\n",
    "        return x"
   ]
  },
  {
   "cell_type": "code",
   "execution_count": 77,
   "metadata": {},
   "outputs": [
    {
     "name": "stdout",
     "output_type": "stream",
     "text": [
      "DAutoencoder(\n",
      "  (encoder_fc1): Linear(in_features=1682, out_features=128, bias=True)\n",
      "  (encoder_fc2): Linear(in_features=128, out_features=64, bias=True)\n",
      "  (decoder_fc1): Linear(in_features=64, out_features=128, bias=True)\n",
      "  (decoder_fc2): Linear(in_features=128, out_features=1682, bias=True)\n",
      "  (activation): Sigmoid()\n",
      ")\n",
      "Total number of parameters: 448978\n"
     ]
    }
   ],
   "source": [
    "print_network(DAutoencoder())"
   ]
  },
  {
   "cell_type": "code",
   "execution_count": null,
   "metadata": {},
   "outputs": [],
   "source": []
  },
  {
   "cell_type": "markdown",
   "metadata": {},
   "source": [
    "#### Train"
   ]
  },
  {
   "cell_type": "code",
   "execution_count": 78,
   "metadata": {},
   "outputs": [
    {
     "data": {
      "text/plain": [
       "(943, 1682)"
      ]
     },
     "execution_count": 78,
     "metadata": {},
     "output_type": "execute_result"
    }
   ],
   "source": [
    "train_sparse_matrix.shape"
   ]
  },
  {
   "cell_type": "code",
   "execution_count": 79,
   "metadata": {},
   "outputs": [],
   "source": [
    "# train_sparse_matrix = train_sparse_matrix/5\n",
    "# valid_sparse_matrix = valid_sparse_matrix/5\n",
    "# test_sparse_matrix = test_sparse_matrix/5"
   ]
  },
  {
   "cell_type": "code",
   "execution_count": 100,
   "metadata": {},
   "outputs": [],
   "source": [
    "# setup the root \n",
    "root = './DAE_Recommender_system/'\n",
    "if not os.path.isdir(root):\n",
    "    os.mkdir(root)\n",
    "    \n",
    "result_root = os.path.join(root, 'results/')\n",
    "if not os.path.isdir(result_root):\n",
    "    os.mkdir(result_root)"
   ]
  },
  {
   "cell_type": "code",
   "execution_count": 104,
   "metadata": {},
   "outputs": [],
   "source": [
    "num_epoch = 200\n",
    "learning_rate = 0.0001\n",
    "noise_factor = 0.1"
   ]
  },
  {
   "cell_type": "code",
   "execution_count": 105,
   "metadata": {},
   "outputs": [],
   "source": [
    "DAE = DAutoencoder().cuda()"
   ]
  },
  {
   "cell_type": "code",
   "execution_count": 106,
   "metadata": {
    "scrolled": true
   },
   "outputs": [],
   "source": [
    "BCE_loss = nn.BCELoss().cuda()\n",
    "MSE_loss = nn.MSELoss().cuda()"
   ]
  },
  {
   "cell_type": "code",
   "execution_count": 107,
   "metadata": {},
   "outputs": [],
   "source": [
    "optimizer = torch.optim.Adam(DAE.parameters(), lr=learning_rate)"
   ]
  },
  {
   "cell_type": "code",
   "execution_count": 108,
   "metadata": {},
   "outputs": [],
   "source": [
    "DAE.weight_init(mean=0.0, std=0.02)"
   ]
  },
  {
   "cell_type": "code",
   "execution_count": 109,
   "metadata": {
    "scrolled": true
   },
   "outputs": [
    {
     "name": "stdout",
     "output_type": "stream",
     "text": [
      "[Epoch 1/201] Train loss:[loss: 5.213200] | Valid loss: [loss: 1.602133] | Test loss: [loss: 1.711031]\n",
      "time used: 8.565194368362427\n",
      "[Epoch 2/201] Train loss:[loss: 1.503847] | Valid loss: [loss: 1.050975] | Test loss: [loss: 1.120700]\n",
      "time used: 8.50837254524231\n",
      "[Epoch 3/201] Train loss:[loss: 1.265976] | Valid loss: [loss: 0.983441] | Test loss: [loss: 1.041708]\n",
      "time used: 7.88899302482605\n",
      "[Epoch 4/201] Train loss:[loss: 1.220486] | Valid loss: [loss: 0.965810] | Test loss: [loss: 1.015667]\n",
      "time used: 7.770338773727417\n",
      "[Epoch 5/201] Train loss:[loss: 1.203421] | Valid loss: [loss: 0.960130] | Test loss: [loss: 1.005691]\n",
      "time used: 7.79626727104187\n",
      "[Epoch 6/201] Train loss:[loss: 1.162815] | Valid loss: [loss: 0.953078] | Test loss: [loss: 0.998916]\n",
      "time used: 7.751360893249512\n",
      "[Epoch 7/201] Train loss:[loss: 1.156538] | Valid loss: [loss: 0.951628] | Test loss: [loss: 0.996435]\n",
      "time used: 7.749334096908569\n",
      "[Epoch 8/201] Train loss:[loss: 1.168463] | Valid loss: [loss: 0.948997] | Test loss: [loss: 0.991192]\n",
      "time used: 7.783275127410889\n",
      "[Epoch 9/201] Train loss:[loss: 1.146748] | Valid loss: [loss: 0.943776] | Test loss: [loss: 0.987970]\n",
      "time used: 7.7603371143341064\n",
      "[Epoch 10/201] Train loss:[loss: 1.143273] | Valid loss: [loss: 0.941193] | Test loss: [loss: 0.983181]\n",
      "time used: 8.721776485443115\n",
      "[Epoch 11/201] Train loss:[loss: 1.152583] | Valid loss: [loss: 0.934996] | Test loss: [loss: 0.974191]\n",
      "time used: 7.76635217666626\n",
      "[Epoch 12/201] Train loss:[loss: 1.130352] | Valid loss: [loss: 0.931335] | Test loss: [loss: 0.967187]\n",
      "time used: 7.816213369369507\n",
      "[Epoch 13/201] Train loss:[loss: 1.161109] | Valid loss: [loss: 0.928620] | Test loss: [loss: 0.965986]\n",
      "time used: 7.744373798370361\n",
      "[Epoch 14/201] Train loss:[loss: 1.130315] | Valid loss: [loss: 0.924229] | Test loss: [loss: 0.961903]\n",
      "time used: 7.7433836460113525\n",
      "[Epoch 15/201] Train loss:[loss: 1.131042] | Valid loss: [loss: 0.918940] | Test loss: [loss: 0.951929]\n",
      "time used: 7.74942684173584\n",
      "[Epoch 16/201] Train loss:[loss: 1.098038] | Valid loss: [loss: 0.915113] | Test loss: [loss: 0.945952]\n",
      "time used: 7.747373819351196\n",
      "[Epoch 17/201] Train loss:[loss: 1.111305] | Valid loss: [loss: 0.905126] | Test loss: [loss: 0.939504]\n",
      "time used: 7.739358425140381\n",
      "[Epoch 18/201] Train loss:[loss: 1.110560] | Valid loss: [loss: 0.904658] | Test loss: [loss: 0.934549]\n",
      "time used: 7.788275957107544\n",
      "[Epoch 19/201] Train loss:[loss: 1.110444] | Valid loss: [loss: 0.899447] | Test loss: [loss: 0.926547]\n",
      "time used: 7.7783143520355225\n",
      "[Epoch 20/201] Train loss:[loss: 1.068925] | Valid loss: [loss: 0.897295] | Test loss: [loss: 0.924103]\n",
      "time used: 8.05654501914978\n",
      "[Epoch 21/201] Train loss:[loss: 1.085096] | Valid loss: [loss: 0.893937] | Test loss: [loss: 0.920393]\n",
      "time used: 7.776333570480347\n",
      "[Epoch 22/201] Train loss:[loss: 1.090138] | Valid loss: [loss: 0.887687] | Test loss: [loss: 0.912929]\n",
      "time used: 7.775470495223999\n",
      "[Epoch 23/201] Train loss:[loss: 1.067601] | Valid loss: [loss: 0.885439] | Test loss: [loss: 0.909967]\n",
      "time used: 7.765322685241699\n",
      "[Epoch 24/201] Train loss:[loss: 1.084270] | Valid loss: [loss: 0.881232] | Test loss: [loss: 0.910917]\n",
      "time used: 8.079538822174072\n",
      "[Epoch 25/201] Train loss:[loss: 1.050747] | Valid loss: [loss: 0.882847] | Test loss: [loss: 0.906063]\n",
      "time used: 8.048593997955322\n",
      "[Epoch 26/201] Train loss:[loss: 1.050986] | Valid loss: [loss: 0.883006] | Test loss: [loss: 0.904017]\n",
      "time used: 7.779284715652466\n",
      "[Epoch 27/201] Train loss:[loss: 1.069403] | Valid loss: [loss: 0.877969] | Test loss: [loss: 0.901402]\n",
      "time used: 7.755341053009033\n",
      "[Epoch 28/201] Train loss:[loss: 1.070220] | Valid loss: [loss: 0.875291] | Test loss: [loss: 0.899759]\n",
      "time used: 7.7424092292785645\n",
      "[Epoch 29/201] Train loss:[loss: 1.054482] | Valid loss: [loss: 0.875876] | Test loss: [loss: 0.901064]\n",
      "time used: 7.759336471557617\n",
      "[Epoch 30/201] Train loss:[loss: 1.031169] | Valid loss: [loss: 0.875227] | Test loss: [loss: 0.898046]\n",
      "time used: 7.782304048538208\n",
      "[Epoch 31/201] Train loss:[loss: 1.028466] | Valid loss: [loss: 0.867944] | Test loss: [loss: 0.892351]\n",
      "time used: 7.835106134414673\n",
      "[Epoch 32/201] Train loss:[loss: 1.051322] | Valid loss: [loss: 0.869078] | Test loss: [loss: 0.897164]\n",
      "time used: 7.789302349090576\n",
      "[Epoch 33/201] Train loss:[loss: 1.043898] | Valid loss: [loss: 0.868522] | Test loss: [loss: 0.889355]\n",
      "time used: 7.76731538772583\n",
      "[Epoch 34/201] Train loss:[loss: 1.038178] | Valid loss: [loss: 0.866587] | Test loss: [loss: 0.894412]\n",
      "time used: 7.79227614402771\n",
      "[Epoch 35/201] Train loss:[loss: 1.016916] | Valid loss: [loss: 0.857645] | Test loss: [loss: 0.885617]\n",
      "time used: 7.748339653015137\n",
      "[Epoch 36/201] Train loss:[loss: 1.038249] | Valid loss: [loss: 0.864276] | Test loss: [loss: 0.883395]\n",
      "time used: 7.754381895065308\n",
      "[Epoch 37/201] Train loss:[loss: 1.014071] | Valid loss: [loss: 0.865029] | Test loss: [loss: 0.883969]\n",
      "time used: 7.7533323764801025\n",
      "[Epoch 38/201] Train loss:[loss: 1.044524] | Valid loss: [loss: 0.864689] | Test loss: [loss: 0.888914]\n",
      "time used: 7.749319791793823\n",
      "[Epoch 39/201] Train loss:[loss: 1.006235] | Valid loss: [loss: 0.861070] | Test loss: [loss: 0.885661]\n",
      "time used: 8.192183256149292\n",
      "[Epoch 40/201] Train loss:[loss: 1.020694] | Valid loss: [loss: 0.855804] | Test loss: [loss: 0.884231]\n",
      "time used: 7.777320384979248\n",
      "[Epoch 41/201] Train loss:[loss: 1.021861] | Valid loss: [loss: 0.860347] | Test loss: [loss: 0.884230]\n",
      "time used: 7.793278455734253\n",
      "[Epoch 42/201] Train loss:[loss: 1.013297] | Valid loss: [loss: 0.857779] | Test loss: [loss: 0.879163]\n",
      "time used: 7.788255453109741\n",
      "[Epoch 43/201] Train loss:[loss: 1.033691] | Valid loss: [loss: 0.852301] | Test loss: [loss: 0.877750]\n",
      "time used: 7.789257764816284\n",
      "[Epoch 44/201] Train loss:[loss: 1.017505] | Valid loss: [loss: 0.851783] | Test loss: [loss: 0.872347]\n",
      "time used: 8.080508708953857\n",
      "[Epoch 45/201] Train loss:[loss: 1.015416] | Valid loss: [loss: 0.850780] | Test loss: [loss: 0.871717]\n",
      "time used: 7.789287567138672\n",
      "[Epoch 46/201] Train loss:[loss: 1.065108] | Valid loss: [loss: 0.858780] | Test loss: [loss: 0.885378]\n",
      "time used: 7.722409248352051\n",
      "[Epoch 47/201] Train loss:[loss: 1.014458] | Valid loss: [loss: 0.850663] | Test loss: [loss: 0.870635]\n",
      "time used: 7.7852942943573\n",
      "[Epoch 48/201] Train loss:[loss: 1.005968] | Valid loss: [loss: 0.845048] | Test loss: [loss: 0.872082]\n",
      "time used: 7.762301921844482\n",
      "[Epoch 49/201] Train loss:[loss: 1.009975] | Valid loss: [loss: 0.847104] | Test loss: [loss: 0.873341]\n",
      "time used: 7.770307540893555\n",
      "[Epoch 50/201] Train loss:[loss: 1.024836] | Valid loss: [loss: 0.847429] | Test loss: [loss: 0.869291]\n",
      "time used: 7.76629114151001\n",
      "[Epoch 51/201] Train loss:[loss: 1.008353] | Valid loss: [loss: 0.849404] | Test loss: [loss: 0.875537]\n",
      "time used: 8.120383501052856\n",
      "[Epoch 52/201] Train loss:[loss: 1.020368] | Valid loss: [loss: 0.845900] | Test loss: [loss: 0.869737]\n",
      "time used: 7.778277635574341\n",
      "[Epoch 53/201] Train loss:[loss: 1.013354] | Valid loss: [loss: 0.844929] | Test loss: [loss: 0.870551]\n",
      "time used: 7.785294532775879\n",
      "[Epoch 54/201] Train loss:[loss: 1.011119] | Valid loss: [loss: 0.841888] | Test loss: [loss: 0.869834]\n",
      "time used: 8.09145212173462\n",
      "[Epoch 55/201] Train loss:[loss: 1.004350] | Valid loss: [loss: 0.854031] | Test loss: [loss: 0.879772]\n",
      "time used: 7.783301591873169\n",
      "[Epoch 56/201] Train loss:[loss: 1.014201] | Valid loss: [loss: 0.845286] | Test loss: [loss: 0.869438]\n",
      "time used: 7.759366273880005\n",
      "[Epoch 57/201] Train loss:[loss: 1.040670] | Valid loss: [loss: 0.846794] | Test loss: [loss: 0.873532]\n",
      "time used: 7.758338689804077\n",
      "[Epoch 58/201] Train loss:[loss: 0.993149] | Valid loss: [loss: 0.853325] | Test loss: [loss: 0.880667]\n",
      "time used: 7.754322290420532\n",
      "[Epoch 59/201] Train loss:[loss: 0.998130] | Valid loss: [loss: 0.852263] | Test loss: [loss: 0.879714]\n",
      "time used: 7.737395763397217\n",
      "[Epoch 60/201] Train loss:[loss: 0.993532] | Valid loss: [loss: 0.846543] | Test loss: [loss: 0.869409]\n",
      "time used: 7.76631760597229\n",
      "[Epoch 61/201] Train loss:[loss: 0.997301] | Valid loss: [loss: 0.849059] | Test loss: [loss: 0.875754]\n",
      "time used: 7.97074818611145\n",
      "[Epoch 62/201] Train loss:[loss: 1.015155] | Valid loss: [loss: 0.838093] | Test loss: [loss: 0.866844]\n",
      "time used: 7.767293691635132\n",
      "[Epoch 63/201] Train loss:[loss: 0.995549] | Valid loss: [loss: 0.845374] | Test loss: [loss: 0.867537]\n",
      "time used: 7.738400459289551\n",
      "[Epoch 64/201] Train loss:[loss: 0.998401] | Valid loss: [loss: 0.842240] | Test loss: [loss: 0.868257]\n",
      "time used: 7.787254095077515\n",
      "[Epoch 65/201] Train loss:[loss: 0.996751] | Valid loss: [loss: 0.847283] | Test loss: [loss: 0.869130]\n",
      "time used: 8.060561656951904\n",
      "[Epoch 66/201] Train loss:[loss: 1.013630] | Valid loss: [loss: 0.841893] | Test loss: [loss: 0.870143]\n",
      "time used: 7.7443695068359375\n",
      "[Epoch 67/201] Train loss:[loss: 0.987752] | Valid loss: [loss: 0.843872] | Test loss: [loss: 0.868249]\n",
      "time used: 7.740394353866577\n",
      "[Epoch 68/201] Train loss:[loss: 1.004656] | Valid loss: [loss: 0.838739] | Test loss: [loss: 0.863055]\n",
      "time used: 7.7404139041900635\n",
      "[Epoch 69/201] Train loss:[loss: 1.008966] | Valid loss: [loss: 0.844972] | Test loss: [loss: 0.871288]\n",
      "time used: 7.799202919006348\n",
      "[Epoch 70/201] Train loss:[loss: 1.008872] | Valid loss: [loss: 0.845602] | Test loss: [loss: 0.868552]\n",
      "time used: 7.7733283042907715\n",
      "[Epoch 71/201] Train loss:[loss: 0.997006] | Valid loss: [loss: 0.838175] | Test loss: [loss: 0.867719]\n",
      "time used: 7.856078147888184\n",
      "[Epoch 72/201] Train loss:[loss: 0.983233] | Valid loss: [loss: 0.842568] | Test loss: [loss: 0.867708]\n",
      "time used: 7.7733283042907715\n",
      "[Epoch 73/201] Train loss:[loss: 0.998293] | Valid loss: [loss: 0.842224] | Test loss: [loss: 0.866115]\n",
      "time used: 7.79427170753479\n",
      "[Epoch 74/201] Train loss:[loss: 0.995838] | Valid loss: [loss: 0.843231] | Test loss: [loss: 0.864896]\n",
      "time used: 7.745373487472534\n",
      "[Epoch 75/201] Train loss:[loss: 1.002488] | Valid loss: [loss: 0.841319] | Test loss: [loss: 0.864761]\n",
      "time used: 7.768346548080444\n",
      "[Epoch 76/201] Train loss:[loss: 1.005851] | Valid loss: [loss: 0.844057] | Test loss: [loss: 0.870272]\n",
      "time used: 7.7952117919921875\n",
      "[Epoch 77/201] Train loss:[loss: 1.003366] | Valid loss: [loss: 0.841243] | Test loss: [loss: 0.864510]\n",
      "time used: 9.036935567855835\n",
      "[Epoch 78/201] Train loss:[loss: 1.020684] | Valid loss: [loss: 0.838951] | Test loss: [loss: 0.867559]\n",
      "time used: 7.774296522140503\n",
      "[Epoch 79/201] Train loss:[loss: 0.992754] | Valid loss: [loss: 0.844056] | Test loss: [loss: 0.868268]\n",
      "time used: 7.773327350616455\n",
      "[Epoch 80/201] Train loss:[loss: 0.974686] | Valid loss: [loss: 0.841578] | Test loss: [loss: 0.862397]\n",
      "time used: 7.759351491928101\n",
      "[Epoch 81/201] Train loss:[loss: 0.995952] | Valid loss: [loss: 0.840330] | Test loss: [loss: 0.862197]\n",
      "time used: 7.741392374038696\n",
      "[Epoch 82/201] Train loss:[loss: 0.985877] | Valid loss: [loss: 0.840887] | Test loss: [loss: 0.863074]\n",
      "time used: 7.745373487472534\n",
      "[Epoch 83/201] Train loss:[loss: 0.998262] | Valid loss: [loss: 0.839744] | Test loss: [loss: 0.867591]\n",
      "time used: 7.746370792388916\n",
      "[Epoch 84/201] Train loss:[loss: 1.033783] | Valid loss: [loss: 0.848107] | Test loss: [loss: 0.862334]\n",
      "time used: 7.745400667190552\n",
      "[Epoch 85/201] Train loss:[loss: 0.986361] | Valid loss: [loss: 0.841965] | Test loss: [loss: 0.865004]\n",
      "time used: 7.781278610229492\n",
      "[Epoch 86/201] Train loss:[loss: 0.996806] | Valid loss: [loss: 0.837704] | Test loss: [loss: 0.863183]\n",
      "time used: 7.806211948394775\n",
      "[Epoch 87/201] Train loss:[loss: 0.988506] | Valid loss: [loss: 0.841120] | Test loss: [loss: 0.862191]\n",
      "time used: 8.555244445800781\n",
      "[Epoch 88/201] Train loss:[loss: 1.004270] | Valid loss: [loss: 0.837039] | Test loss: [loss: 0.860741]\n",
      "time used: 7.75036096572876\n",
      "[Epoch 89/201] Train loss:[loss: 0.988163] | Valid loss: [loss: 0.838946] | Test loss: [loss: 0.860507]\n",
      "time used: 7.756345748901367\n",
      "[Epoch 90/201] Train loss:[loss: 1.008712] | Valid loss: [loss: 0.846839] | Test loss: [loss: 0.867041]\n",
      "time used: 7.7573401927948\n",
      "[Epoch 91/201] Train loss:[loss: 1.016551] | Valid loss: [loss: 0.839674] | Test loss: [loss: 0.868977]\n",
      "time used: 7.8073108196258545\n",
      "[Epoch 92/201] Train loss:[loss: 0.986132] | Valid loss: [loss: 0.840630] | Test loss: [loss: 0.859567]\n",
      "time used: 7.7643232345581055\n",
      "[Epoch 93/201] Train loss:[loss: 1.007633] | Valid loss: [loss: 0.838138] | Test loss: [loss: 0.858757]\n",
      "time used: 7.780280351638794\n",
      "[Epoch 94/201] Train loss:[loss: 0.982656] | Valid loss: [loss: 0.841144] | Test loss: [loss: 0.862194]\n",
      "time used: 7.885044813156128\n",
      "[Epoch 95/201] Train loss:[loss: 0.985749] | Valid loss: [loss: 0.840070] | Test loss: [loss: 0.857136]\n",
      "time used: 7.789254188537598\n",
      "[Epoch 96/201] Train loss:[loss: 0.991463] | Valid loss: [loss: 0.842913] | Test loss: [loss: 0.858318]\n",
      "time used: 7.737532615661621\n",
      "[Epoch 97/201] Train loss:[loss: 0.990819] | Valid loss: [loss: 0.838540] | Test loss: [loss: 0.862319]\n",
      "time used: 7.749361753463745\n",
      "[Epoch 98/201] Train loss:[loss: 0.973829] | Valid loss: [loss: 0.837086] | Test loss: [loss: 0.862705]\n",
      "time used: 7.748363256454468\n",
      "[Epoch 99/201] Train loss:[loss: 0.995014] | Valid loss: [loss: 0.838951] | Test loss: [loss: 0.863652]\n",
      "time used: 7.774266958236694\n",
      "[Epoch 100/201] Train loss:[loss: 0.997730] | Valid loss: [loss: 0.838533] | Test loss: [loss: 0.860961]\n",
      "time used: 7.7902514934539795\n",
      "[Epoch 101/201] Train loss:[loss: 1.002755] | Valid loss: [loss: 0.834787] | Test loss: [loss: 0.858649]\n",
      "time used: 7.788287162780762\n",
      "[Epoch 102/201] Train loss:[loss: 0.991897] | Valid loss: [loss: 0.837343] | Test loss: [loss: 0.857611]\n",
      "time used: 7.753353118896484\n",
      "[Epoch 103/201] Train loss:[loss: 0.975990] | Valid loss: [loss: 0.838044] | Test loss: [loss: 0.862866]\n",
      "time used: 7.769307374954224\n",
      "[Epoch 104/201] Train loss:[loss: 0.976558] | Valid loss: [loss: 0.837469] | Test loss: [loss: 0.862955]\n",
      "time used: 7.757337808609009\n",
      "[Epoch 105/201] Train loss:[loss: 0.993062] | Valid loss: [loss: 0.837379] | Test loss: [loss: 0.858512]\n",
      "time used: 7.7792809009552\n",
      "[Epoch 106/201] Train loss:[loss: 0.979001] | Valid loss: [loss: 0.833451] | Test loss: [loss: 0.860046]\n",
      "time used: 7.776258945465088\n",
      "[Epoch 107/201] Train loss:[loss: 0.978246] | Valid loss: [loss: 0.835918] | Test loss: [loss: 0.859835]\n",
      "time used: 7.747394323348999\n",
      "[Epoch 108/201] Train loss:[loss: 1.009971] | Valid loss: [loss: 0.841226] | Test loss: [loss: 0.854609]\n",
      "time used: 7.775318384170532\n",
      "[Epoch 109/201] Train loss:[loss: 0.985349] | Valid loss: [loss: 0.835677] | Test loss: [loss: 0.855709]\n",
      "time used: 7.768283367156982\n",
      "[Epoch 110/201] Train loss:[loss: 0.988689] | Valid loss: [loss: 0.835851] | Test loss: [loss: 0.857462]\n",
      "time used: 7.807233810424805\n",
      "[Epoch 111/201] Train loss:[loss: 0.990847] | Valid loss: [loss: 0.835026] | Test loss: [loss: 0.858514]\n",
      "time used: 7.815185308456421\n",
      "[Epoch 112/201] Train loss:[loss: 0.976184] | Valid loss: [loss: 0.833551] | Test loss: [loss: 0.851462]\n",
      "time used: 7.743403911590576\n",
      "[Epoch 113/201] Train loss:[loss: 0.992415] | Valid loss: [loss: 0.834313] | Test loss: [loss: 0.857171]\n",
      "time used: 8.184202194213867\n",
      "[Epoch 114/201] Train loss:[loss: 0.983089] | Valid loss: [loss: 0.836774] | Test loss: [loss: 0.856573]\n",
      "time used: 7.787259817123413\n",
      "[Epoch 115/201] Train loss:[loss: 0.962742] | Valid loss: [loss: 0.832099] | Test loss: [loss: 0.857331]\n",
      "time used: 7.757373571395874\n",
      "[Epoch 116/201] Train loss:[loss: 0.975165] | Valid loss: [loss: 0.833442] | Test loss: [loss: 0.856518]\n",
      "time used: 7.7752580642700195\n",
      "[Epoch 117/201] Train loss:[loss: 0.979124] | Valid loss: [loss: 0.834345] | Test loss: [loss: 0.851244]\n",
      "time used: 7.737420558929443\n",
      "[Epoch 118/201] Train loss:[loss: 0.984302] | Valid loss: [loss: 0.834258] | Test loss: [loss: 0.856368]\n",
      "time used: 7.755371570587158\n",
      "[Epoch 119/201] Train loss:[loss: 0.991610] | Valid loss: [loss: 0.830373] | Test loss: [loss: 0.852670]\n",
      "time used: 7.77925181388855\n",
      "[Epoch 120/201] Train loss:[loss: 0.968168] | Valid loss: [loss: 0.825486] | Test loss: [loss: 0.849968]\n",
      "time used: 7.769347667694092\n",
      "[Epoch 121/201] Train loss:[loss: 0.943723] | Valid loss: [loss: 0.831290] | Test loss: [loss: 0.853703]\n",
      "time used: 7.7702648639678955\n",
      "[Epoch 122/201] Train loss:[loss: 0.963369] | Valid loss: [loss: 0.823624] | Test loss: [loss: 0.851830]\n",
      "time used: 7.777285099029541\n"
     ]
    },
    {
     "name": "stdout",
     "output_type": "stream",
     "text": [
      "[Epoch 123/201] Train loss:[loss: 0.951597] | Valid loss: [loss: 0.817818] | Test loss: [loss: 0.850280]\n",
      "time used: 7.770305156707764\n",
      "[Epoch 124/201] Train loss:[loss: 0.958444] | Valid loss: [loss: 0.819749] | Test loss: [loss: 0.846841]\n",
      "time used: 7.768337249755859\n",
      "[Epoch 125/201] Train loss:[loss: 0.932637] | Valid loss: [loss: 0.819341] | Test loss: [loss: 0.847792]\n",
      "time used: 7.774267911911011\n",
      "[Epoch 126/201] Train loss:[loss: 0.936877] | Valid loss: [loss: 0.814205] | Test loss: [loss: 0.848076]\n",
      "time used: 7.75637149810791\n",
      "[Epoch 127/201] Train loss:[loss: 0.948202] | Valid loss: [loss: 0.812662] | Test loss: [loss: 0.846158]\n",
      "time used: 7.750326156616211\n",
      "[Epoch 128/201] Train loss:[loss: 0.947923] | Valid loss: [loss: 0.811751] | Test loss: [loss: 0.846090]\n",
      "time used: 7.761356830596924\n",
      "[Epoch 129/201] Train loss:[loss: 0.925457] | Valid loss: [loss: 0.807925] | Test loss: [loss: 0.838797]\n",
      "time used: 7.7662882804870605\n",
      "[Epoch 130/201] Train loss:[loss: 0.918803] | Valid loss: [loss: 0.811676] | Test loss: [loss: 0.844757]\n",
      "time used: 7.729379653930664\n",
      "[Epoch 131/201] Train loss:[loss: 0.915439] | Valid loss: [loss: 0.810236] | Test loss: [loss: 0.840408]\n",
      "time used: 7.784268856048584\n",
      "[Epoch 132/201] Train loss:[loss: 0.939635] | Valid loss: [loss: 0.807053] | Test loss: [loss: 0.839995]\n",
      "time used: 7.811223268508911\n",
      "[Epoch 133/201] Train loss:[loss: 0.922062] | Valid loss: [loss: 0.809236] | Test loss: [loss: 0.844912]\n",
      "time used: 7.812193393707275\n",
      "[Epoch 134/201] Train loss:[loss: 0.917076] | Valid loss: [loss: 0.805521] | Test loss: [loss: 0.840007]\n",
      "time used: 7.778284311294556\n",
      "[Epoch 135/201] Train loss:[loss: 0.922948] | Valid loss: [loss: 0.809080] | Test loss: [loss: 0.844755]\n",
      "time used: 7.748387575149536\n",
      "[Epoch 136/201] Train loss:[loss: 0.928737] | Valid loss: [loss: 0.808343] | Test loss: [loss: 0.842901]\n",
      "time used: 7.769283056259155\n",
      "[Epoch 137/201] Train loss:[loss: 0.923228] | Valid loss: [loss: 0.809225] | Test loss: [loss: 0.842063]\n",
      "time used: 7.745370864868164\n",
      "[Epoch 138/201] Train loss:[loss: 0.888920] | Valid loss: [loss: 0.809631] | Test loss: [loss: 0.844762]\n",
      "time used: 7.957805156707764\n",
      "[Epoch 139/201] Train loss:[loss: 0.916152] | Valid loss: [loss: 0.807612] | Test loss: [loss: 0.842544]\n",
      "time used: 7.755376577377319\n",
      "[Epoch 140/201] Train loss:[loss: 0.905915] | Valid loss: [loss: 0.803950] | Test loss: [loss: 0.836105]\n",
      "time used: 7.729413270950317\n",
      "[Epoch 141/201] Train loss:[loss: 0.891300] | Valid loss: [loss: 0.804135] | Test loss: [loss: 0.845592]\n",
      "time used: 7.804215669631958\n",
      "[Epoch 142/201] Train loss:[loss: 0.899986] | Valid loss: [loss: 0.809207] | Test loss: [loss: 0.841011]\n",
      "time used: 8.025625467300415\n",
      "[Epoch 143/201] Train loss:[loss: 0.886927] | Valid loss: [loss: 0.810194] | Test loss: [loss: 0.839964]\n",
      "time used: 7.775291919708252\n",
      "[Epoch 144/201] Train loss:[loss: 0.884898] | Valid loss: [loss: 0.805832] | Test loss: [loss: 0.840347]\n",
      "time used: 8.584137201309204\n",
      "[Epoch 145/201] Train loss:[loss: 0.903779] | Valid loss: [loss: 0.809624] | Test loss: [loss: 0.838929]\n",
      "time used: 8.05452299118042\n",
      "[Epoch 146/201] Train loss:[loss: 0.906076] | Valid loss: [loss: 0.806449] | Test loss: [loss: 0.843643]\n",
      "time used: 7.793245077133179\n",
      "[Epoch 147/201] Train loss:[loss: 0.887745] | Valid loss: [loss: 0.807601] | Test loss: [loss: 0.840917]\n",
      "time used: 7.77828311920166\n",
      "[Epoch 148/201] Train loss:[loss: 0.880090] | Valid loss: [loss: 0.806948] | Test loss: [loss: 0.843289]\n",
      "time used: 7.763322830200195\n",
      "[Epoch 149/201] Train loss:[loss: 0.904250] | Valid loss: [loss: 0.806621] | Test loss: [loss: 0.840608]\n",
      "time used: 7.775291442871094\n",
      "[Epoch 150/201] Train loss:[loss: 0.876490] | Valid loss: [loss: 0.803707] | Test loss: [loss: 0.839302]\n",
      "time used: 7.72643256187439\n",
      "[Epoch 151/201] Train loss:[loss: 0.895298] | Valid loss: [loss: 0.809634] | Test loss: [loss: 0.842249]\n",
      "time used: 7.768340110778809\n",
      "[Epoch 152/201] Train loss:[loss: 0.880532] | Valid loss: [loss: 0.805759] | Test loss: [loss: 0.839910]\n",
      "time used: 7.750356912612915\n",
      "[Epoch 153/201] Train loss:[loss: 0.875725] | Valid loss: [loss: 0.805485] | Test loss: [loss: 0.839084]\n",
      "time used: 7.754348516464233\n",
      "[Epoch 154/201] Train loss:[loss: 0.884326] | Valid loss: [loss: 0.808721] | Test loss: [loss: 0.846766]\n",
      "time used: 7.76531457901001\n",
      "[Epoch 155/201] Train loss:[loss: 0.887355] | Valid loss: [loss: 0.802848] | Test loss: [loss: 0.838772]\n",
      "time used: 7.7792809009552\n",
      "[Epoch 156/201] Train loss:[loss: 0.864652] | Valid loss: [loss: 0.814952] | Test loss: [loss: 0.841435]\n",
      "time used: 7.746395826339722\n",
      "[Epoch 157/201] Train loss:[loss: 0.887317] | Valid loss: [loss: 0.812138] | Test loss: [loss: 0.844171]\n",
      "time used: 7.798257350921631\n",
      "[Epoch 158/201] Train loss:[loss: 0.869781] | Valid loss: [loss: 0.809801] | Test loss: [loss: 0.842072]\n",
      "time used: 8.02759313583374\n",
      "[Epoch 159/201] Train loss:[loss: 0.870998] | Valid loss: [loss: 0.807174] | Test loss: [loss: 0.838091]\n",
      "time used: 7.772311687469482\n",
      "[Epoch 160/201] Train loss:[loss: 0.881282] | Valid loss: [loss: 0.809208] | Test loss: [loss: 0.842594]\n",
      "time used: 7.780289888381958\n",
      "[Epoch 161/201] Train loss:[loss: 0.868498] | Valid loss: [loss: 0.813752] | Test loss: [loss: 0.849013]\n",
      "time used: 7.804210424423218\n",
      "[Epoch 162/201] Train loss:[loss: 0.871370] | Valid loss: [loss: 0.811963] | Test loss: [loss: 0.847378]\n",
      "time used: 7.807207107543945\n",
      "[Epoch 163/201] Train loss:[loss: 0.880272] | Valid loss: [loss: 0.811891] | Test loss: [loss: 0.849007]\n",
      "time used: 7.741422891616821\n",
      "[Epoch 164/201] Train loss:[loss: 0.839335] | Valid loss: [loss: 0.817571] | Test loss: [loss: 0.847713]\n",
      "time used: 7.791276931762695\n",
      "[Epoch 165/201] Train loss:[loss: 0.869600] | Valid loss: [loss: 0.812843] | Test loss: [loss: 0.847797]\n",
      "time used: 7.767313003540039\n",
      "[Epoch 166/201] Train loss:[loss: 0.850395] | Valid loss: [loss: 0.817946] | Test loss: [loss: 0.853247]\n",
      "time used: 7.769280672073364\n",
      "[Epoch 167/201] Train loss:[loss: 0.895748] | Valid loss: [loss: 0.815689] | Test loss: [loss: 0.844970]\n",
      "time used: 7.772273302078247\n",
      "[Epoch 168/201] Train loss:[loss: 0.873857] | Valid loss: [loss: 0.817396] | Test loss: [loss: 0.852949]\n",
      "time used: 7.752352237701416\n",
      "[Epoch 169/201] Train loss:[loss: 0.865419] | Valid loss: [loss: 0.821223] | Test loss: [loss: 0.860721]\n",
      "time used: 7.755375146865845\n",
      "[Epoch 170/201] Train loss:[loss: 0.855825] | Valid loss: [loss: 0.818852] | Test loss: [loss: 0.851139]\n",
      "time used: 7.756369590759277\n",
      "[Epoch 171/201] Train loss:[loss: 0.848775] | Valid loss: [loss: 0.821399] | Test loss: [loss: 0.853421]\n",
      "time used: 7.752325773239136\n",
      "[Epoch 172/201] Train loss:[loss: 0.854293] | Valid loss: [loss: 0.820644] | Test loss: [loss: 0.850307]\n",
      "time used: 7.780239105224609\n",
      "[Epoch 173/201] Train loss:[loss: 0.853842] | Valid loss: [loss: 0.820325] | Test loss: [loss: 0.855095]\n",
      "time used: 7.779250621795654\n",
      "[Epoch 174/201] Train loss:[loss: 0.850370] | Valid loss: [loss: 0.817733] | Test loss: [loss: 0.855605]\n",
      "time used: 7.7722978591918945\n",
      "[Epoch 175/201] Train loss:[loss: 0.850668] | Valid loss: [loss: 0.819381] | Test loss: [loss: 0.859523]\n",
      "time used: 7.770302057266235\n",
      "[Epoch 176/201] Train loss:[loss: 0.847870] | Valid loss: [loss: 0.827515] | Test loss: [loss: 0.863751]\n",
      "time used: 7.764318466186523\n",
      "[Epoch 177/201] Train loss:[loss: 0.846536] | Valid loss: [loss: 0.824257] | Test loss: [loss: 0.866731]\n",
      "time used: 7.837093830108643\n",
      "[Epoch 178/201] Train loss:[loss: 0.839607] | Valid loss: [loss: 0.820800] | Test loss: [loss: 0.864201]\n",
      "time used: 7.766342639923096\n",
      "[Epoch 179/201] Train loss:[loss: 0.824313] | Valid loss: [loss: 0.820790] | Test loss: [loss: 0.864766]\n",
      "time used: 7.7453696727752686\n",
      "[Epoch 180/201] Train loss:[loss: 0.842357] | Valid loss: [loss: 0.826181] | Test loss: [loss: 0.863308]\n",
      "time used: 7.798201084136963\n",
      "[Epoch 181/201] Train loss:[loss: 0.846861] | Valid loss: [loss: 0.822758] | Test loss: [loss: 0.864854]\n",
      "time used: 7.753348350524902\n",
      "[Epoch 182/201] Train loss:[loss: 0.857570] | Valid loss: [loss: 0.828514] | Test loss: [loss: 0.863284]\n",
      "time used: 7.781299591064453\n",
      "[Epoch 183/201] Train loss:[loss: 0.849989] | Valid loss: [loss: 0.826841] | Test loss: [loss: 0.866962]\n",
      "time used: 7.7543463706970215\n",
      "[Epoch 184/201] Train loss:[loss: 0.852781] | Valid loss: [loss: 0.828432] | Test loss: [loss: 0.862621]\n",
      "time used: 7.778280973434448\n",
      "[Epoch 185/201] Train loss:[loss: 0.843006] | Valid loss: [loss: 0.826232] | Test loss: [loss: 0.865484]\n",
      "time used: 7.775289058685303\n",
      "[Epoch 186/201] Train loss:[loss: 0.864318] | Valid loss: [loss: 0.828344] | Test loss: [loss: 0.863130]\n",
      "time used: 7.740381956100464\n",
      "[Epoch 187/201] Train loss:[loss: 0.851571] | Valid loss: [loss: 0.830782] | Test loss: [loss: 0.863418]\n",
      "time used: 7.786295652389526\n",
      "[Epoch 188/201] Train loss:[loss: 0.847906] | Valid loss: [loss: 0.828620] | Test loss: [loss: 0.866471]\n",
      "time used: 7.774255990982056\n",
      "[Epoch 189/201] Train loss:[loss: 0.845544] | Valid loss: [loss: 0.827482] | Test loss: [loss: 0.865537]\n",
      "time used: 7.783268928527832\n",
      "[Epoch 190/201] Train loss:[loss: 0.827788] | Valid loss: [loss: 0.832686] | Test loss: [loss: 0.870122]\n",
      "time used: 7.804184198379517\n",
      "[Epoch 191/201] Train loss:[loss: 0.833463] | Valid loss: [loss: 0.833642] | Test loss: [loss: 0.867142]\n",
      "time used: 7.781279563903809\n",
      "[Epoch 192/201] Train loss:[loss: 0.819034] | Valid loss: [loss: 0.836371] | Test loss: [loss: 0.866448]\n",
      "time used: 7.788228273391724\n",
      "[Epoch 193/201] Train loss:[loss: 0.801091] | Valid loss: [loss: 0.834525] | Test loss: [loss: 0.870719]\n",
      "time used: 7.794238567352295\n",
      "[Epoch 194/201] Train loss:[loss: 0.837954] | Valid loss: [loss: 0.835408] | Test loss: [loss: 0.872289]\n",
      "time used: 7.771291255950928\n",
      "[Epoch 195/201] Train loss:[loss: 0.807536] | Valid loss: [loss: 0.835666] | Test loss: [loss: 0.871011]\n",
      "time used: 7.77526593208313\n",
      "[Epoch 196/201] Train loss:[loss: 0.802453] | Valid loss: [loss: 0.835304] | Test loss: [loss: 0.875523]\n",
      "time used: 7.78628945350647\n",
      "[Epoch 197/201] Train loss:[loss: 0.838791] | Valid loss: [loss: 0.835719] | Test loss: [loss: 0.877662]\n",
      "time used: 7.801220178604126\n",
      "[Epoch 198/201] Train loss:[loss: 0.828701] | Valid loss: [loss: 0.840022] | Test loss: [loss: 0.872789]\n",
      "time used: 7.749356269836426\n",
      "[Epoch 199/201] Train loss:[loss: 0.846825] | Valid loss: [loss: 0.842080] | Test loss: [loss: 0.875215]\n",
      "time used: 7.812161922454834\n",
      "[Epoch 200/201] Train loss:[loss: 0.811686] | Valid loss: [loss: 0.844954] | Test loss: [loss: 0.883473]\n",
      "time used: 7.749387264251709\n"
     ]
    }
   ],
   "source": [
    "train_loss_hist = []\n",
    "valid_loss_hist = []\n",
    "test_loss_hist = []\n",
    "\n",
    "total_train_input_noisy = []\n",
    "total_train_output = []\n",
    "total_valid_input_noisy = []\n",
    "total_valid_output = []\n",
    "total_test_input_noisy = []\n",
    "total_test_output = []\n",
    "\n",
    "for epoch in range(1, num_epoch + 1):\n",
    "    \n",
    "    epoch_start_time = time.time()\n",
    "    \n",
    "    #---------------- training -----------------#\n",
    "    train_loss = 0.0\n",
    "    train_input_noisy = []\n",
    "    train_output = []\n",
    "    \n",
    "    for u in range(num_users):\n",
    "        \n",
    "        optimizer.zero_grad()\n",
    "        \n",
    "        x_input = torch.Tensor(train_sparse_matrix[u]).unsqueeze(0).cuda()\n",
    "        # add random noise\n",
    "        x_input_noisy = x_input + noise_factor * torch.randn(len(x_input)).unsqueeze(0).cuda()\n",
    "        x_input_noisy = torch.clamp(x_input_noisy, 0, 5).cuda()\n",
    "        # forward\n",
    "        x_output = DAE(x_input_noisy)\n",
    "        # no rating at all, skip\n",
    "        x_output = x_output * torch.Tensor(train_sparse_matrix_mask[u]).unsqueeze(0).cuda()\n",
    "        # loss MSE\n",
    "        loss = torch.sqrt(torch.sum((x_output - x_input_noisy)**2)/train_sparse_matrix_mask[u].sum())\n",
    "#         loss = MSE_loss(x_output, x_input)\n",
    "        # backpropagation\n",
    "        loss.backward()\n",
    "        optimizer.step()\n",
    "        \n",
    "        train_loss += loss.item()\n",
    "        \n",
    "        train_input_noisy.append(x_input_noisy.detach().cpu().numpy())\n",
    "        train_output.append(x_output.detach().cpu().numpy())\n",
    "        \n",
    "    total_train_input_noisy.append(np.vstack(train_input_noisy))\n",
    "    total_train_output.append(np.vstack(train_output))\n",
    "\n",
    "    train_loss_hist.append(train_loss)\n",
    "    avg_train_loss = train_loss/num_users\n",
    "    \n",
    "    #---------------- validation -----------------#\n",
    "    valid_loss = 0.0\n",
    "    valid_input_noisy = []\n",
    "    valid_output = []\n",
    "    \n",
    "    for v in range(num_users):\n",
    "        \n",
    "        # get the prediction \n",
    "        x_predict = torch.Tensor(train_sparse_matrix[v]).unsqueeze(0).cuda()\n",
    "        x_predict_noisy = x_predict + noise_factor * torch.randn(len(x_predict)).unsqueeze(0).cuda()\n",
    "        x_predict_noisy = torch.clamp(x_predict_noisy, 0, 5).cuda()\n",
    "        # forward\n",
    "        x_predict = DAE(x_predict_noisy) \n",
    "        # no rating at all, skip\n",
    "        x_predict = x_predict * torch.Tensor(valid_sparse_matrix_mask[v]).unsqueeze(0).cuda()\n",
    "        # get the validation \n",
    "        x_target = torch.Tensor(valid_sparse_matrix[v]).unsqueeze(0).cuda()\n",
    "        \n",
    "        # RMSE loss validation\n",
    "        loss_validation = torch.sqrt(torch.sum((x_predict - x_target)**2)/valid_sparse_matrix_mask[v].sum())\n",
    "        \n",
    "        valid_loss += loss_validation.item()\n",
    "        \n",
    "        valid_input_noisy.append(x_predict.detach().cpu().numpy())\n",
    "        valid_output.append(x_target.detach().cpu().numpy())\n",
    "        \n",
    "    total_valid_input_noisy.append(np.vstack(valid_input_noisy))\n",
    "    total_valid_output.append(np.vstack(valid_output))\n",
    "        \n",
    "    valid_loss_hist.append(valid_loss)\n",
    "    avg_valid_loss = valid_loss/num_users\n",
    "    \n",
    "    #---------------- testing -----------------#\n",
    "    test_loss = 0.0\n",
    "    test_input_noisy = []\n",
    "    test_output = []\n",
    "    \n",
    "    for t in range(num_users):\n",
    "        \n",
    "        # get the prediction \n",
    "        x_predict_test = torch.Tensor(train_sparse_matrix[t]).unsqueeze(0).cuda()\n",
    "        x_predict_noisy_test = x_predict_test + noise_factor * torch.randn(len(x_predict_test)).unsqueeze(0).cuda()\n",
    "        x_predict_noisy_test = torch.clamp(x_predict_noisy_test, 0, 5).cuda()\n",
    "        # forward\n",
    "        x_predict_test = DAE(x_predict_noisy_test) \n",
    "        # no rating at all, skip\n",
    "        x_predict_test = x_predict_test * torch.Tensor(test_sparse_matrix_mask[t]).unsqueeze(0).cuda()\n",
    "        # get the test \n",
    "        x_target_test = torch.Tensor(test_sparse_matrix[t]).unsqueeze(0).cuda()\n",
    "        \n",
    "        # RMSE loss testation\n",
    "        loss_test = torch.sqrt(torch.sum((x_predict_test - x_target_test)**2)/test_sparse_matrix_mask[t].sum())\n",
    "        \n",
    "        test_loss += loss_test.item()\n",
    "        \n",
    "        test_input_noisy.append(x_predict_test.detach().cpu().numpy())\n",
    "        test_output.append(x_target_test.detach().cpu().numpy())\n",
    "        \n",
    "    total_test_input_noisy.append(np.vstack(test_input_noisy))\n",
    "    total_test_output.append(np.vstack(test_output))\n",
    "        \n",
    "    test_loss_hist.append(test_loss)\n",
    "    avg_test_loss = test_loss/num_users\n",
    "    \n",
    "    print(\"[Epoch %d/%d] Train loss:[loss: %f] | Valid loss: [loss: %f] | Test loss: [loss: %f]\" \n",
    "          % (epoch, (num_epoch+1), avg_train_loss**2, avg_valid_loss**2, avg_test_loss**2))\n",
    "    \n",
    "    epoch_end_time = time.time()\n",
    "    print('time used: {}'.format(epoch_end_time - epoch_start_time))\n",
    "    \n",
    "    if avg_valid_loss<0.05:\n",
    "        print(\"early stop\")\n",
    "        break\n",
    "        \n",
    "#     plot_grad_flow(DAE.named_parameters(), epoch, 'DAE')\n",
    "    \n",
    "total_train_input_noisy = np.array(total_train_input_noisy)\n",
    "total_train_output = np.array(total_train_output)\n",
    "\n",
    "total_valid_input_noisy = np.array(total_valid_input_noisy)\n",
    "total_valid_output = np.array(total_valid_output)\n",
    "\n",
    "total_test_input_noisy = np.array(total_test_input_noisy)\n",
    "total_test_output = np.array(total_test_output)\n",
    "\n",
    "train_loss_hist = np.array(train_loss_hist)\n",
    "valid_loss_hist = np.array(valid_loss_hist)\n",
    "test_loss_hist = np.array(test_loss_hist)\n",
    "    "
   ]
  },
  {
   "cell_type": "code",
   "execution_count": 298,
   "metadata": {},
   "outputs": [],
   "source": [
    "np.save('./result/total_train_input_noisy.npy', total_train_input_noisy)\n",
    "np.save('./result/total_train_output.npy', total_train_output)\n",
    "np.save('./result/total_valid_input_noisy.npy', total_valid_input_noisy)\n",
    "np.save('./result/total_valid_output.npy', total_valid_output)\n",
    "np.save('./result/total_test_input_noisy.npy', total_test_input_noisy)\n",
    "np.save('./result/total_test_output.npy', total_test_output)\n",
    "\n",
    "np.save('./result/train_loss_hist.npy', train_loss_hist)\n",
    "np.save('./result/valid_loss_hist.npy', valid_loss_hist)\n",
    "np.save('./result/test_loss_hist.npy', test_loss_hist)"
   ]
  },
  {
   "cell_type": "code",
   "execution_count": null,
   "metadata": {},
   "outputs": [],
   "source": []
  },
  {
   "cell_type": "code",
   "execution_count": 305,
   "metadata": {},
   "outputs": [
    {
     "data": {
      "image/png": "[encoded data removed]",
      "text/plain": [
       "<Figure size 864x288 with 2 Axes>"
      ]
     },
     "metadata": {
      "needs_background": "light"
     },
     "output_type": "display_data"
    }
   ],
   "source": [
    "# loss visualization\n",
    "fig2, axs2 = plt.subplots(nrows=1, ncols=2, figsize=(12, 4))\n",
    "axs2[0].plot(train_loss_hist/943, 'b', label='train loss')\n",
    "axs2[1].plot(valid_loss_hist/943, 'g', label='valid loss')\n",
    "axs2[1].plot(test_loss_hist/943, 'r', label='test loss')\n",
    "\n",
    "axs2[0].set_title('DAE training, MSE')\n",
    "axs2[1].set_title('DAE validation/test , MSE')\n",
    "axs2[0].set_ylim(0.7,1.5)\n",
    "axs2[1].set_ylim(0.7,1.5)\n",
    "axs2[0].set_ylabel('training loss')\n",
    "axs2[1].set_ylabel('valid/test loss')\n",
    "\n",
    "axs2[0].set_xlabel('epoch')\n",
    "axs2[1].set_xlabel('epoch')\n",
    "\n",
    "axs2[0].legend()\n",
    "axs2[1].legend()\n",
    "plt.show()\n",
    "\n",
    "fig2.savefig('./result/MSE_loss.png', bbox_inches = 'tight')\n"
   ]
  },
  {
   "cell_type": "code",
   "execution_count": 306,
   "metadata": {},
   "outputs": [
    {
     "data": {
      "image/png": "[encoded data removed]",
      "text/plain": [
       "<Figure size 864x288 with 2 Axes>"
      ]
     },
     "metadata": {
      "needs_background": "light"
     },
     "output_type": "display_data"
    }
   ],
   "source": [
    "# loss visualization\n",
    "fig2, axs2 = plt.subplots(nrows=1, ncols=2, figsize=(12, 4))\n",
    "axs2[0].plot((train_loss_hist/943)**2, 'b', label='train loss')\n",
    "axs2[1].plot((valid_loss_hist/943)**2, 'g', label='valid loss')\n",
    "axs2[1].plot((test_loss_hist/943)**2, 'r', label='test loss')\n",
    "\n",
    "axs2[0].set_title('DAE training, RMSE')\n",
    "axs2[1].set_title('DAE validation/test , RMSE')\n",
    "axs2[0].set_ylim(0.7,1.5)\n",
    "axs2[1].set_ylim(0.7,1.5)\n",
    "axs2[0].set_ylabel('training loss')\n",
    "axs2[1].set_ylabel('valid/test loss')\n",
    "\n",
    "axs2[0].set_xlabel('epoch')\n",
    "axs2[1].set_xlabel('epoch')\n",
    "\n",
    "axs2[0].legend()\n",
    "axs2[1].legend()\n",
    "plt.show()\n",
    "\n",
    "fig2.savefig('./result/RMSE_loss.png', bbox_inches = 'tight')\n"
   ]
  },
  {
   "cell_type": "code",
   "execution_count": 349,
   "metadata": {},
   "outputs": [],
   "source": [
    "check_epoch = 150\n",
    "check_pred_length = 1600\n",
    "check_pred_user = 20"
   ]
  },
  {
   "cell_type": "code",
   "execution_count": 350,
   "metadata": {},
   "outputs": [
    {
     "data": {
      "image/png": "[encoded data removed]",
      "text/plain": [
       "<Figure size 720x288 with 1 Axes>"
      ]
     },
     "metadata": {
      "needs_background": "light"
     },
     "output_type": "display_data"
    }
   ],
   "source": [
    "prediction_check = total_test_input_noisy[check_epoch][:check_pred_length,:check_pred_length][check_pred_user]\n",
    "groud_truth_check = total_test_output[check_epoch][:check_pred_length,:check_pred_length][check_pred_user]\n",
    "RMSE = np.sqrt(sum((groud_truth_check - prediction_check)**2)/len(groud_truth_check[groud_truth_check != 0]))\n",
    "\n",
    "fig2, axs2 = plt.subplots(nrows=1, ncols=1, figsize=(10, 4))\n",
    "axs2.plot(prediction_check, c='r', label='prediction')\n",
    "axs2.plot(groud_truth_check, c='b', label='ground truth')\n",
    "axs2.set_title('User: {}, RMSE: {}'.format(check_pred_user, round(RMSE,3)))\n",
    "axs2.set_xlabel('Movie id')\n",
    "axs2.set_ylabel('Ratings')\n",
    "axs2.legend()\n",
    "plt.show()\n",
    "\n",
    "fig2.savefig('./result/sample_prediction_performance.png', bbox_inches = 'tight')"
   ]
  },
  {
   "cell_type": "code",
   "execution_count": 355,
   "metadata": {},
   "outputs": [],
   "source": [
    "check_epoch = 100\n",
    "check_pred_length = 50"
   ]
  },
  {
   "cell_type": "code",
   "execution_count": 356,
   "metadata": {},
   "outputs": [],
   "source": [
    "prediction_check_heatmap = total_test_input_noisy[check_epoch][:check_pred_length,:check_pred_length]\n",
    "groud_truth_check_heatmap = total_test_output[check_epoch][:check_pred_length,:check_pred_length]"
   ]
  },
  {
   "cell_type": "code",
   "execution_count": 354,
   "metadata": {},
   "outputs": [
    {
     "data": {
      "image/png": "[encoded data removed]",
      "text/plain": [
       "<Figure size 720x288 with 2 Axes>"
      ]
     },
     "metadata": {
      "needs_background": "light"
     },
     "output_type": "display_data"
    }
   ],
   "source": [
    "fig, axs = plt.subplots(nrows=1, ncols=2, figsize=(10, 4))\n",
    "axs[0].imshow(prediction_check_heatmap, vmin=0, vmax=5)\n",
    "axs[1].imshow(groud_truth_check_heatmap, vmin=0, vmax=5)\n",
    "axs[0].set_title('Prediction ratings matrix (partial)')\n",
    "axs[1].set_title('Ground Truth ratings matrix (partial)')\n",
    "axs[0].set_xlabel('Movie id')\n",
    "axs[0].set_ylabel('User id')\n",
    "axs[1].set_xlabel('Movie id')\n",
    "axs[1].set_ylabel('User id')\n",
    "plt.show()\n",
    "\n",
    "fig.savefig('./result/sample_prediction_performance_heatmap_epoch1.png', bbox_inches = 'tight')"
   ]
  },
  {
   "cell_type": "code",
   "execution_count": 357,
   "metadata": {},
   "outputs": [
    {
     "data": {
      "image/png": "[encoded data removed]",
      "text/plain": [
       "<Figure size 720x288 with 2 Axes>"
      ]
     },
     "metadata": {
      "needs_background": "light"
     },
     "output_type": "display_data"
    }
   ],
   "source": [
    "fig, axs = plt.subplots(nrows=1, ncols=2, figsize=(10, 4))\n",
    "axs[0].imshow(prediction_check_heatmap, vmin=0, vmax=5)\n",
    "axs[1].imshow(groud_truth_check_heatmap, vmin=0, vmax=5)\n",
    "axs[0].set_title('Prediction ratings matrix (partial)')\n",
    "axs[1].set_title('Ground Truth ratings matrix (partial)')\n",
    "axs[0].set_xlabel('Movie id')\n",
    "axs[0].set_ylabel('User id')\n",
    "axs[1].set_xlabel('Movie id')\n",
    "axs[1].set_ylabel('User id')\n",
    "plt.show()\n",
    "\n",
    "fig.savefig('./result/sample_prediction_performance_heatmap_epoch100.png', bbox_inches = 'tight')"
   ]
  },
  {
   "cell_type": "code",
   "execution_count": 286,
   "metadata": {},
   "outputs": [
    {
     "data": {
      "image/png": "[encoded data removed]",
      "text/plain": [
       "<Figure size 720x288 with 2 Axes>"
      ]
     },
     "metadata": {
      "needs_background": "light"
     },
     "output_type": "display_data"
    }
   ],
   "source": [
    "fig, axs = plt.subplots(nrows=1, ncols=2, figsize=(10, 4))\n",
    "axs[0].imshow(prediction_check_heatmap, vmin=0, vmax=6)\n",
    "axs[1].imshow(groud_truth_check_heatmap, vmin=0, vmax=6)\n",
    "axs[0].set_title('Prediction ratings matrix (partial)')\n",
    "axs[1].set_title('Ground Truth ratings matrix (partial)')\n",
    "axs[0].set_xlabel('Movie id')\n",
    "axs[0].set_ylabel('User id')\n",
    "axs[1].set_xlabel('Movie id')\n",
    "axs[1].set_ylabel('User id')\n",
    "plt.show()"
   ]
  },
  {
   "cell_type": "code",
   "execution_count": null,
   "metadata": {},
   "outputs": [],
   "source": []
  },
  {
   "cell_type": "code",
   "execution_count": null,
   "metadata": {},
   "outputs": [],
   "source": []
  },
  {
   "cell_type": "code",
   "execution_count": null,
   "metadata": {},
   "outputs": [],
   "source": []
  },
  {
   "cell_type": "code",
   "execution_count": null,
   "metadata": {},
   "outputs": [],
   "source": []
  }
 ],
 "metadata": {
  "kernelspec": {
   "display_name": "Python 3",
   "language": "python",
   "name": "python3"
  },
  "language_info": {
   "codemirror_mode": {
    "name": "ipython",
    "version": 3
   },
   "file_extension": ".py",
   "mimetype": "text/x-python",
   "name": "python",
   "nbconvert_exporter": "python",
   "pygments_lexer": "ipython3",
   "version": "3.6.10"
  }
 },
 "nbformat": 4,
 "nbformat_minor": 2
}
